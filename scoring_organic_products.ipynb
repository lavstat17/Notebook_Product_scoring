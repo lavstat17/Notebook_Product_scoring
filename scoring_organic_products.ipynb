{
  "nbformat": 4,
  "nbformat_minor": 0,
  "metadata": {
    "colab": {
      "name": "scoring_organic_products.ipynb",
      "provenance": [],
      "collapsed_sections": [],
      "authorship_tag": "ABX9TyMGEUiF5ApuW110aT15zJtF",
      "include_colab_link": true
    },
    "kernelspec": {
      "name": "python3",
      "display_name": "Python 3"
    }
  },
  "cells": [
    {
      "cell_type": "markdown",
      "metadata": {
        "id": "view-in-github",
        "colab_type": "text"
      },
      "source": [
        "<a href=\"https://colab.research.google.com/github/lavstat17/Notebook_Product_scoring/blob/main/scoring_organic_products.ipynb\" target=\"_parent\"><img src=\"https://colab.research.google.com/assets/colab-badge.svg\" alt=\"Open In Colab\"/></a>"
      ]
    },
    {
      "cell_type": "code",
      "metadata": {
        "colab": {
          "base_uri": "https://localhost:8080/"
        },
        "id": "S3JKTW6-Y3SQ",
        "outputId": "e0ea609b-949c-47ac-f59b-7503f263afc1"
      },
      "source": [
        "from google.colab import drive\r\n",
        "drive.mount('/content/drive')"
      ],
      "execution_count": null,
      "outputs": [
        {
          "output_type": "stream",
          "text": [
            "Mounted at /content/drive\n"
          ],
          "name": "stdout"
        }
      ]
    },
    {
      "cell_type": "code",
      "metadata": {
        "colab": {
          "base_uri": "https://localhost:8080/"
        },
        "id": "lEqG3DW0kLyo",
        "outputId": "9ba1e681-d9ad-4a09-bc00-10f9270ce44c"
      },
      "source": [
        "#importing libraries\r\n",
        "import pandas as pd\r\n",
        "import math\r\n",
        "import warnings\r\n",
        "import re,logging\r\n",
        "warnings.filterwarnings(\"ignore\")\r\n",
        "\r\n",
        "class product_score:\r\n",
        "  def __init__(self):\r\n",
        "    self.log = logging.getLogger(__name__)\r\n",
        "\r\n",
        "  # def decrease_score(self,row):\r\n",
        "  #   if row['category'].str.contains(\"organic\"):\r\n",
        "  #     return row['final_score'] *90/100\r\n",
        "  #   elif row['category'].str.contains(\"made with organic\"):\r\n",
        "  #     return row['final_score']*75/100\r\n",
        "  #   elif row['category'].str.contains(\"ingredients panel\"):\r\n",
        "  #     return row['final_score']*50/100\r\n",
        "\r\n",
        "  def integration(self):\r\n",
        "    #Read the Scrapped data Vitaminshoppe and chetoos\r\n",
        "    df = pd.read_csv(r'/content/drive/MyDrive/organic_snacks_data_analysis.csv')\r\n",
        "    #convert each serving size to 100g\r\n",
        "    df_new = df[['protein','Saturatedfat','sugars','Servingsize','sodium','fiber','calories']].astype(int)\r\n",
        "    d = {4:25, 8:12.5, 12:8.4, 12.4:8.1, 13:7.7, 14:7.2, 15:6.67, 16:6.3, 17:5.9, 18:5.6, 19:5.31, 19.8:5.1, 20:5, 21:4.8, 22:4.55, 23:4.35, 24:4.2, 25:4, 26:3.85, 27:3.71, 28:3.58, 29:3.45, 30:3.34, 31:3.23, 32:3.13, 33:3.04, 34:2.95, 35:2.87, 36:2.8, 37:2.71, 38:2.65, 39:2.57, 40:2.5, 41:2.45, 42:2.39, 43:2.33, 44:2.28, 45:2.23}\r\n",
        "    df_new['constant'] = df['Servingsize'].map(d)\r\n",
        "    df_new['protein_100g'] = df_new['protein']*df_new['constant'].astype(int)\r\n",
        "    df_new['Saturatedfat_100g'] = df_new['Saturatedfat']*df_new['constant'].astype(int)\r\n",
        "    df_new['sugars_100g'] = df_new['sugars']*df_new['constant'].round(decimals=2)\r\n",
        "    df_new['fiber_100g'] = df_new['fiber']*df_new['constant'].round(decimals=2)\r\n",
        "    df_new['Servingsize_100g'] = df_new['Servingsize']*df_new['constant'].round(decimals=2)\r\n",
        "    df_new['sodium_mg'] = df_new['sodium'].astype(int)\r\n",
        "    df_new['Energy_Kcal'] = df_new['calories']*df_new['constant'].round(decimals=2)\r\n",
        "    df_new['Energy_KJ'] = df_new['calories']*4.184\r\n",
        "    df_new.to_csv('conversion_data.csv')\r\n",
        "\r\n",
        "    #negative factors dataframe\r\n",
        "    df_new1= df_new[['Energy_KJ','sodium_mg','Saturatedfat_100g','sugars_100g']]\r\n",
        "\r\n",
        "    ##positive factors dataframe\r\n",
        "    df_new2= df_new[['fiber_100g','protein_100g']]\r\n",
        "\r\n",
        "    ## Negative factors scoring based on threshold value\r\n",
        "    bins1 = [0,335,670,1005,1340,1675,2010,2345,2680,3015,3350]\r\n",
        "    bins2 = [0,1,2,3,4,5,6,7,8,9,10,500]\r\n",
        "    bins3 = [0,4.5,9,13.5,18,22.5,27,31,36,40,45,500]\r\n",
        "    bins4 = [0,90,180,270,360,450,540,630,720,810,900,1500]\r\n",
        "    df_new1['Energy_KJ_score'] = pd.cut(df_new1['Energy_KJ'], bins=bins1, labels=False,include_lowest=True)\r\n",
        "    df_new1['Saturated_Fat_score_'] = pd.cut(df_new1['Saturatedfat_100g'],bins=bins2, labels=False,include_lowest=True)\r\n",
        "    df_new1['sugars_100g_score'] = pd.cut(df_new1['sugars_100g'],bins=bins3,labels=False,include_lowest=True)\r\n",
        "    df_new1['sodium_mg_score'] = pd.cut(df_new1['sodium_mg'],bins=bins4,labels=False,include_lowest=True)\r\n",
        "\r\n",
        "    ## Positive factors scoring based on threshold values\r\n",
        "    bin1 = [0,0.7,1.4,2.1,2.8,3.5,500]\r\n",
        "    bin2 = [0,1.6,3.2,4.8,6.4,8.0,500]\r\n",
        "    df_new2['fiber_score'] = pd.cut(df_new2['fiber_100g'], bins=bin1, labels=False,include_lowest=True)\r\n",
        "    df_new2['protein_score'] = pd.cut(df_new2['protein_100g'],bins=bin2, labels=False,include_lowest=True)\r\n",
        "    return df,df_new1,df_new2\r\n",
        "\r\n",
        "  #calculating A points\r\n",
        "  #Total 'A' points = (points for energy) + (points for saturated fat) + (points for sugars) + (points for sodium)\r\n",
        "  def A_points(self,row):\r\n",
        "    return row['Energy_KJ_score']+row['sodium_mg_score']+row['Saturated_Fat_score_']+row['sugars_100g_score']\r\n",
        "\r\n",
        "  #caluclating C points\r\n",
        "  #Total 'C' points = (points for % fruit, vegetable & nut content) + (points for fibre [either NSP or AOAC]) + (points for protein)\r\n",
        "  def C_points(self,row):\r\n",
        "    return row['fiber_score']+row['protein_score']\r\n",
        "\r\n",
        "  # Based on conditions finding overall score\r\n",
        "  def overall_score(self,row):\r\n",
        "    if row['A'] < 11 or row['A'] >= 11:\r\n",
        "      return row['A']- row['C']\r\n",
        "  \r\n",
        "  def perform_score(self,schedule_app=None):\r\n",
        "    df,df_new1,df_new2 = self.integration()\r\n",
        "    A = self.A_points(df_new1)\r\n",
        "    print(A)\r\n",
        "    C = self.C_points(df_new2)\r\n",
        "    print(C)\r\n",
        "\r\n",
        "    score = {'A':A,'C':C}\r\n",
        "    score = pd.concat(score, axis=1)\r\n",
        "    score['final_score'] = score.apply( lambda row : self.overall_score(row), axis = 1)\r\n",
        "    print(\"before reducing the value {}\".format(score))\r\n",
        "\r\n",
        "    #Decrease the final_score to 5% for organic products\r\n",
        "    score['final_score'] = score['final_score']*95/100\r\n",
        "    print(\"after reducing the score {}\".format(score))\r\n",
        "\r\n",
        "    bin2 = [-15,-2,3,11,16,50]\r\n",
        "    labels = ['Green','Yellow','Orange','pink','Red']\r\n",
        "    \r\n",
        "    #Creating 5CNL format\r\n",
        "    score['Tag'] = pd.cut(score['final_score'], bins=bin2, labels=labels)\r\n",
        "    score = pd.concat([df[['Nameofproduct','category']],score],axis=1)\r\n",
        "    score_output = pd.concat([score,df[['calories','sodium','Saturatedfat','sugars','fiber','protein']]],axis=1)\r\n",
        "\r\n",
        "    score_output.to_csv('organic_snacks_scoring.csv')\r\n",
        "    print(score_output)\r\n",
        "\r\n",
        "\r\n",
        "if __name__ == '__main__':\r\n",
        "  reco = product_score()\r\n",
        "  reco.perform_score()"
      ],
      "execution_count": null,
      "outputs": [
        {
          "output_type": "stream",
          "text": [
            "0      12\n",
            "1      17\n",
            "2      15\n",
            "3      13\n",
            "4      16\n",
            "       ..\n",
            "201    10\n",
            "202    10\n",
            "203    12\n",
            "204    12\n",
            "205    15\n",
            "Length: 206, dtype: int64\n",
            "0      10\n",
            "1       7\n",
            "2       1\n",
            "3       7\n",
            "4       7\n",
            "       ..\n",
            "201     5\n",
            "202     5\n",
            "203    10\n",
            "204     5\n",
            "205     3\n",
            "Length: 206, dtype: int64\n",
            "before reducing the value       A   C  final_score\n",
            "0    12  10            2\n",
            "1    17   7           10\n",
            "2    15   1           14\n",
            "3    13   7            6\n",
            "4    16   7            9\n",
            "..   ..  ..          ...\n",
            "201  10   5            5\n",
            "202  10   5            5\n",
            "203  12  10            2\n",
            "204  12   5            7\n",
            "205  15   3           12\n",
            "\n",
            "[206 rows x 3 columns]\n",
            "after reducing the score       A   C  final_score\n",
            "0    12  10         1.90\n",
            "1    17   7         9.50\n",
            "2    15   1        13.30\n",
            "3    13   7         5.70\n",
            "4    16   7         8.55\n",
            "..   ..  ..          ...\n",
            "201  10   5         4.75\n",
            "202  10   5         4.75\n",
            "203  12  10         1.90\n",
            "204  12   5         6.65\n",
            "205  15   3        11.40\n",
            "\n",
            "[206 rows x 3 columns]\n",
            "                                         Nameofproduct category  ...  fiber  protein\n",
            "0     Organic Almond Butter Keto Cups 7 Count, 4.93 oz  organic  ...      5      3.0\n",
            "1               Ogranic Cookies, Chocolate Chip, 12 oz  organic  ...      1      2.0\n",
            "2                Ogranic Cookies, Vanilla Wafers, 9 oz  organic  ...      0      1.0\n",
            "3               Ogranic Cookies, Oatmeal Raisin, 12 oz  organic  ...      1      2.0\n",
            "4        Ogranic Cookies, Double Chocolate Chip, 12 oz  organic  ...      1      2.0\n",
            "..                                                 ...      ...  ...    ...      ...\n",
            "201             Organic Manuka Honey Drops Lemon, 4 oz  organic  ...     11      0.0\n",
            "202             Organic Manuka Honey Drops Honey, 4 oz  organic  ...     11      0.0\n",
            "203          Almond Flavored Keto Cups 2 Count, 1.4 oz  organic  ...      5      3.0\n",
            "204            Organic Manuka Honey Drops Ginger, 4 oz  organic  ...     11      0.0\n",
            "205  Organic Maple Cashew Butter Covered Cashews, 3 oz  organic  ...      0      2.0\n",
            "\n",
            "[206 rows x 12 columns]\n"
          ],
          "name": "stdout"
        }
      ]
    },
    {
      "cell_type": "code",
      "metadata": {
        "id": "HzrMgGklkL3q"
      },
      "source": [
        ""
      ],
      "execution_count": null,
      "outputs": []
    },
    {
      "cell_type": "code",
      "metadata": {
        "id": "QT4iXo4jkL8A"
      },
      "source": [
        ""
      ],
      "execution_count": null,
      "outputs": []
    }
  ]
}