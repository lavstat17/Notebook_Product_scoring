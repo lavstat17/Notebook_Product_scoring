{
  "nbformat": 4,
  "nbformat_minor": 0,
  "metadata": {
    "colab": {
      "name": "snacks_scoring.ipynb",
      "provenance": [],
      "collapsed_sections": [],
      "authorship_tag": "ABX9TyP6WeZVX0S/x5625dv2eTal",
      "include_colab_link": true
    },
    "kernelspec": {
      "name": "python3",
      "display_name": "Python 3"
    }
  },
  "cells": [
    {
      "cell_type": "markdown",
      "metadata": {
        "id": "view-in-github",
        "colab_type": "text"
      },
      "source": [
        "<a href=\"https://colab.research.google.com/github/lavstat17/Notebook_Product_scoring/blob/main/snacks_scoring.ipynb\" target=\"_parent\"><img src=\"https://colab.research.google.com/assets/colab-badge.svg\" alt=\"Open In Colab\"/></a>"
      ]
    },
    {
      "cell_type": "code",
      "metadata": {
        "id": "7M_t9r0m0FEw",
        "colab": {
          "base_uri": "https://localhost:8080/"
        },
        "outputId": "903e5c5d-18af-4779-8ac3-3c19241a5cd1"
      },
      "source": [
        "from google.colab import drive\n",
        "drive.mount('/content/drive')"
      ],
      "execution_count": null,
      "outputs": [
        {
          "output_type": "stream",
          "text": [
            "Drive already mounted at /content/drive; to attempt to forcibly remount, call drive.mount(\"/content/drive\", force_remount=True).\n"
          ],
          "name": "stdout"
        }
      ]
    },
    {
      "cell_type": "code",
      "metadata": {
        "id": "9DzQj4nj0GNn",
        "colab": {
          "base_uri": "https://localhost:8080/"
        },
        "outputId": "b41c6191-ea57-478f-acbe-827ee96674c4"
      },
      "source": [
        "#importing libraries\n",
        "import pandas as pd\n",
        "import math\n",
        "import warnings\n",
        "import re,logging\n",
        "warnings.filterwarnings(\"ignore\")\n",
        "\n",
        "class product_score:\n",
        "  def __init__(self):\n",
        "    self.log = logging.getLogger(__name__)\n",
        "\n",
        "  def integration(self):\n",
        "    #Read the Scrapped data Vitaminshoppe and chetoos\n",
        "    df = pd.read_csv(r'/content/drive/MyDrive/snacks_data_new1.csv', engine='python')\n",
        "    #convert each serving size to 100g\n",
        "    df_new = df[['protein_gram','Saturatedfat','sugars_gram','Servingsize_g','sodium_mg','fiber_gram','calories_value']].astype(int)\n",
        "    d = {28:3.6,30:3.34,32:3.13,39:2.57,42:2.4,43:2.33,60:1.67,64:1.564,66:1.53,68:1.48}\n",
        "    df_new['constant'] = df['Servingsize_g'].map(d)\n",
        "    df_new['protein_100g'] = df_new['protein_gram']*df_new['constant'].astype(int)\n",
        "    df_new['Saturated_Fat_100g'] = df_new['Saturatedfat']*df_new['constant'].astype(int)\n",
        "    df_new['sugars_100g'] = df_new['sugars_gram']*df_new['constant'].round(decimals=0)\n",
        "    df_new['fiber_100g'] = df_new['fiber_gram']*df_new['constant'].round(decimals=0)\n",
        "    df_new['Servingsize_100g'] = df_new['Servingsize_g']*df_new['constant'].round(decimals=0)\n",
        "    df_new['sodium_mg'] = df_new['sodium_mg'].astype(int)\n",
        "    df_new['Energy_Kcal'] = df_new['calories_value']*df_new['constant'].round(decimals=0)\n",
        "    df_new['Energy_KJ'] = df_new['Energy_Kcal']*4.184\n",
        "    df_new.to_csv('conversion_data.csv')\n",
        "\n",
        "    #negative factors dataframe\n",
        "    df_new1= df_new[['Energy_KJ','sodium_mg','Saturatedfat','sugars_gram']]\n",
        "\n",
        "    ##positive factors dataframe\n",
        "    df_new2= df_new[['fiber_gram','protein_gram']]\n",
        "\n",
        "    ## Negative factors scoring based on threshold value\n",
        "    bins1 = [0,335,670,1005,1340,1675,2010,2345,2680,3015,3350]\n",
        "    bins2 = [0,1,2,3,4,5,6,7,8,9,10,15]\n",
        "    bins3 = [0,4.5,9,13.5,18,22.5,27,31,36,40,45]\n",
        "    bins4 = [0,90,180,270,360,450,540,630,720,810,900,1500]\n",
        "    df_new1['Energy_KJ_score'] = pd.cut(df_new1['Energy_KJ'], bins=bins1, labels=False,include_lowest=True)\n",
        "    df_new1['Saturated_Fat_score_'] = pd.cut(df_new1['Saturatedfat'],bins=bins2, labels=False,include_lowest=True)\n",
        "    df_new1['sugars_100g_score'] = pd.cut(df_new1['sugars_gram'],bins=bins3,labels=False,include_lowest=True)\n",
        "    df_new1['sodium_mg_score'] = pd.cut(df_new1['sodium_mg'],bins=bins4,labels=False,include_lowest=True)\n",
        "\n",
        "    ## Positive factors scoring based on threshold values\n",
        "    bin1 = [0,0.7,1.4,2.1,2.8,3.5,40]\n",
        "    bin2 = [0,1.6,3.2,4.8,6.4,8.0,100]\n",
        "    df_new2['fiber_score'] = pd.cut(df_new2['fiber_gram'], bins=bin1, labels=False,include_lowest=True)\n",
        "    df_new2['protein_score'] = pd.cut(df_new2['protein_gram'],bins=bin2, labels=False,include_lowest=True)\n",
        "    return df,df_new1,df_new2\n",
        "\n",
        "\n",
        "  #calculating A points\n",
        "  #Total 'A' points = (points for energy) + (points for saturated fat) + (points for sugars) + (points for sodium)\n",
        "  def A_points(self,row):\n",
        "    return row['Energy_KJ_score']+row['sodium_mg_score']+row['Saturated_Fat_score_']+row['sugars_100g_score']\n",
        "\n",
        "  #caluclating C points\n",
        "  #Total 'C' points = (points for % fruit, vegetable & nut content) + (points for fibre [either NSP or AOAC]) + (points for protein)\n",
        "  def C_points(self,row):\n",
        "    return row['fiber_score']+row['protein_score']\n",
        "\n",
        "  # Based on conditions finding overall score\n",
        "  def overall_score(self,row):\n",
        "    if row['A'] < 11:\n",
        "      return row['A']- row['C']\n",
        "    elif row['A'] >= 11:\n",
        "      return row['A'] - row['C']\n",
        "\n",
        "  def perform_score(self,schedule_app=None):\n",
        "    df,df_new1,df_new2 = self.integration()\n",
        "    A = self.A_points(df_new1)\n",
        "    C = self.C_points(df_new2)\n",
        "    \n",
        "    score = {'A':A,'C':C}\n",
        "    score = pd.concat(score, axis=1)\n",
        "    score['final_score'] = score.apply( lambda row : self.overall_score(row), axis = 1)\n",
        "    bin2 = [-15,-2,3,11,16,17]\n",
        "    labels = ['Green','Yellow','Orange','pink','Red']\n",
        "    \n",
        "    #Creating 5CNL format\n",
        "    score['Tag'] = pd.cut(score['final_score'], bins=bin2, labels=labels)\n",
        "    score = pd.concat([df.iloc[:,1],score],axis=1)\n",
        "    score.to_csv('snacks_results_new.csv')\n",
        "    print(score)\n",
        "\n",
        "\n",
        "if __name__ == '__main__':\n",
        "  reco = product_score()\n",
        "  reco.perform_score()"
      ],
      "execution_count": null,
      "outputs": [
        {
          "output_type": "stream",
          "text": [
            "                                        Nameofproduct  A  ...  final_score     Tag\n",
            "0   Quest Tortilla Style Protein Chips - Spicy Swe...  8  ...            2  Yellow\n",
            "1   Quest Tortilla Style Protein Chips - Loaded Ta...  8  ...            2  Yellow\n",
            "2   Quest Tortilla Style Protein Chips - Nacho Che...  8  ...            2  Yellow\n",
            "3   Quest Tortilla Style Protein Chips - Chili Lim...  8  ...            2  Yellow\n",
            "4             Quest Protein Chips - Barbecue (8 Bags)  6  ...            1  Yellow\n",
            "..                                                ... ..  ...          ...     ...\n",
            "78                    TOSTITOS��SABRITAS��SALSA VERDE  9  ...            7  Orange\n",
            "79                      TOSTITOS��HINT OF SPICY QUESO  8  ...            6  Orange\n",
            "80                                 TOSTITOS��SCOOPS!�  7  ...            4  Orange\n",
            "81                      TOSTITOS��MULTIGRAIN SCOOPS!�  7  ...            4  Orange\n",
            "82                           TOSTITOS��BAKED SCOOPS!�  6  ...            3  Yellow\n",
            "\n",
            "[83 rows x 5 columns]\n"
          ],
          "name": "stdout"
        }
      ]
    },
    {
      "cell_type": "code",
      "metadata": {
        "id": "KUQt8WHrxHCv"
      },
      "source": [
        ""
      ],
      "execution_count": null,
      "outputs": []
    }
  ]
}