{
  "nbformat": 4,
  "nbformat_minor": 0,
  "metadata": {
    "colab": {
      "name": "iwon_organics_comaprsion.ipynb",
      "provenance": [],
      "authorship_tag": "ABX9TyO1TqZ4iJFIr1UAQBx4Wav9",
      "include_colab_link": true
    },
    "kernelspec": {
      "name": "python3",
      "display_name": "Python 3"
    }
  },
  "cells": [
    {
      "cell_type": "markdown",
      "metadata": {
        "id": "view-in-github",
        "colab_type": "text"
      },
      "source": [
        "<a href=\"https://colab.research.google.com/github/lavstat17/Notebook_Product_scoring/blob/main/iwon_organics_comaprsion.ipynb\" target=\"_parent\"><img src=\"https://colab.research.google.com/assets/colab-badge.svg\" alt=\"Open In Colab\"/></a>"
      ]
    },
    {
      "cell_type": "code",
      "metadata": {
        "colab": {
          "base_uri": "https://localhost:8080/"
        },
        "id": "Cm-WMTKXJPp_",
        "outputId": "fce4e3f0-48c5-4356-a678-de724a49129e"
      },
      "source": [
        "from google.colab import drive\n",
        "drive.mount('/content/drive')"
      ],
      "execution_count": null,
      "outputs": [
        {
          "output_type": "stream",
          "text": [
            "Mounted at /content/drive\n"
          ],
          "name": "stdout"
        }
      ]
    },
    {
      "cell_type": "code",
      "metadata": {
        "colab": {
          "base_uri": "https://localhost:8080/"
        },
        "id": "ZW4HiGVKLwlB",
        "outputId": "a2eb261d-a303-4a8f-b725-8aceed135979"
      },
      "source": [
        "#importing libraries\n",
        "import pandas as pd\n",
        "import math\n",
        "import warnings\n",
        "import re,logging\n",
        "warnings.filterwarnings(\"ignore\")\n",
        "\n",
        "class product_score:\n",
        "  def __init__(self):\n",
        "    self.log = logging.getLogger(__name__)\n",
        "\n",
        "  def integration(self):\n",
        "    #Read the Scrapped data Vitaminshoppe and chetoos\n",
        "    df = pd.read_csv(r'/content/drive/MyDrive/iwon_organics_data.csv', engine='python')\n",
        "    #convert each serving size to 100g\n",
        "    df_new = df[['protein_gram','Saturatedfat','sugars_gram','Servingsize_g','sodium_mg','fiber_gram','calories_value']].astype(int)\n",
        "    d = {14:7.15,28:3.58,42:2.39}\n",
        "    df_new['constant'] = df['Servingsize_g'].map(d)\n",
        "    df_new['protein_100g'] = df_new['protein_gram']*df_new['constant'].astype(int)\n",
        "    df_new['Saturated_Fat_100g'] = df_new['Saturatedfat']*df_new['constant'].astype(int)\n",
        "    df_new['sugars_100g'] = df_new['sugars_gram']*df_new['constant'].round(decimals=0)\n",
        "    df_new['fiber_100g'] = df_new['fiber_gram']*df_new['constant'].round(decimals=0)\n",
        "    df_new['Servingsize_100g'] = df_new['Servingsize_g']*df_new['constant'].round(decimals=0)\n",
        "    df_new['sodium_mg'] = df_new['sodium_mg'].astype(int)\n",
        "    df_new['Energy_Kcal'] = df_new['calories_value']*df_new['constant'].round(decimals=0)\n",
        "    df_new['Energy_KJ'] = df_new['calories_value']*4.184\n",
        "    df_new.to_csv('conversion_data.csv')\n",
        "\n",
        "    #negative factors dataframe\n",
        "    df_new1= df_new[['Energy_KJ','sodium_mg','Saturated_Fat_100g','sugars_100g']]\n",
        "\n",
        "    ##positive factors dataframe\n",
        "    df_new2= df_new[['fiber_100g','protein_100g']]\n",
        "\n",
        "    ## Negative factors scoring based on threshold value\n",
        "    bins1 = [0,335,670,1005,1340,1675,2010,2345,2680,3015,3350]\n",
        "    bins2 = [0,1,2,3,4,5,6,7,8,9,10,15]\n",
        "    bins3 = [0,4.5,9,13.5,18,22.5,27,31,36,40,45]\n",
        "    bins4 = [0,90,180,270,360,450,540,630,720,810,900,1500]\n",
        "    df_new1['Energy_KJ_score'] = pd.cut(df_new1['Energy_KJ'], bins=bins1, labels=False,include_lowest=True)\n",
        "    df_new1['Saturated_Fat_score_'] = pd.cut(df_new1['Saturated_Fat_100g'],bins=bins2, labels=False,include_lowest=True)\n",
        "    df_new1['sugars_100g_score'] = pd.cut(df_new1['sugars_100g'],bins=bins3,labels=False,include_lowest=True)\n",
        "    df_new1['sodium_mg_score'] = pd.cut(df_new1['sodium_mg'],bins=bins4,labels=False,include_lowest=True)\n",
        "\n",
        "    ## Positive factors scoring based on threshold values\n",
        "    bin1 = [0,0.7,1.4,2.1,2.8,3.5,40]\n",
        "    bin2 = [0,1.6,3.2,4.8,6.4,8.0,100]\n",
        "    df_new2['fiber_score'] = pd.cut(df_new2['fiber_100g'], bins=bin1, labels=False,include_lowest=True)\n",
        "    df_new2['protein_score'] = pd.cut(df_new2['protein_100g'],bins=bin2, labels=False,include_lowest=True)\n",
        "    return df,df_new1,df_new2\n",
        "\n",
        "\n",
        "  #calculating A points\n",
        "  #Total 'A' points = (points for energy) + (points for saturated fat) + (points for sugars) + (points for sodium)\n",
        "  def A_points(self,row):\n",
        "    return row['Energy_KJ_score']+row['sodium_mg_score']+row['Saturated_Fat_score_']+row['sugars_100g_score']\n",
        "\n",
        "  #caluclating C points\n",
        "  #Total 'C' points = (points for % fruit, vegetable & nut content) + (points for fibre [either NSP or AOAC]) + (points for protein)\n",
        "  def C_points(self,row):\n",
        "    return row['fiber_score']+row['protein_score']\n",
        "\n",
        "  # Based on conditions finding overall score\n",
        "  def overall_score(self,row):\n",
        "    if row['A'] < 11:\n",
        "      return row['A']- row['C']\n",
        "    elif row['A'] >= 11:\n",
        "      return row['A'] - row['C']\n",
        "\n",
        "  def perform_score(self,schedule_app=None):\n",
        "    df,df_new1,df_new2 = self.integration()\n",
        "    A = self.A_points(df_new1)\n",
        "    C = self.C_points(df_new2)\n",
        "    \n",
        "    score = {'A':A,'C':C}\n",
        "    score = pd.concat(score, axis=1)\n",
        "    score['final_score'] = score.apply( lambda row : self.overall_score(row), axis = 1)\n",
        "    bin2 = [-15,-2,3,11,16,17]\n",
        "    labels = ['Green','Yellow','Orange','pink','Red']\n",
        "    \n",
        "    #Creating 5CNL format\n",
        "    score['Tag'] = pd.cut(score['final_score'], bins=bin2, labels=labels)\n",
        "    score = pd.concat([df[['Nameofproduct','category']],score],axis=1)\n",
        "    score.to_csv('iwon_comparison_results.csv')\n",
        "    print(score)\n",
        "\n",
        "\n",
        "if __name__ == '__main__':\n",
        "  reco = product_score()\n",
        "  reco.perform_score()"
      ],
      "execution_count": null,
      "outputs": [
        {
          "output_type": "stream",
          "text": [
            "                                        Nameofproduct  ...     Tag\n",
            "0                       iwon_organics - Mesquite  BBQ  ...   Green\n",
            "1                          iwon_organics - Korean BBQ  ...   Green\n",
            "2                 iwon_organics - spicy sweet peppers  ...   Green\n",
            "3                        iwon_organics - nacho cheese  ...   Green\n",
            "4                         iwon_organics - sweet djion  ...   Green\n",
            "5         iwon_organics - tapatio jalapeno sour cream  ...   Green\n",
            "6                      iwon_organics - cheddar cheese  ...   Green\n",
            "7                          iwon_organics - red pepper  ...   Green\n",
            "8                   iwon_organics - caramelized onion  ...   Green\n",
            "9               CHEETOS��Puffs Cheese Flavored Snacks  ...  Yellow\n",
            "10  CHEETOS��Simply Puffs White Cheddar Cheese Fla...  ...  Yellow\n",
            "11  CHEETOS��Puffs FLAMIN' HOT��Cheese Flavored Sn...  ...  Orange\n",
            "12            CHEETOS��Crunchy Cheese Flavored Snacks  ...  Yellow\n",
            "13  CHEETOS��Simply Crunchy White Cheddar Cheese F...  ...  Yellow\n",
            "14  CHEETOS��Crunchy XXTRA FLAMIN' HOT��Cheese Fla...  ...  Yellow\n",
            "15  CHEETOS��Crunchy Cheddar Jalape�o Cheese Flavo...  ...  Yellow\n",
            "16  CHEETOS��Crunchy FLAMIN' HOT��Lim�n Cheese Fla...  ...  Orange\n",
            "17  Pirate's Booty, Aged White Cheddar, 1-Ounce Ba...  ...  Yellow\n",
            "18                 Pirate's Booty��Aged White Cheddar  ...   Green\n",
            "19                              Pirate's Booty��Ranch  ...  Yellow\n",
            "20                             Pirate's Booty��Veggie  ...   Green\n",
            "21              Funyuns Onion Flavored Rings, 6 Ounce  ...  Yellow\n",
            "22     Funyuns Flamin' Hot Onion Flavored Rings, 6 oz  ...  Yellow\n",
            "23                      Hippeas - vegan white cheddar  ...   Green\n",
            "24                             Hippeas - nacho vibes�  ...   Green\n",
            "25                       Hippeas - bohemian barbecue�  ...   Green\n",
            "26                       Hippeas - sriracha sunshine�  ...   Green\n",
            "27                     Hippeas - himalayan happiness�  ...   Green\n",
            "28                    Hippeas - straight up sea salt�  ...   Green\n",
            "29                   Hippeas - jalape�o vegan cheddar  ...   Green\n",
            "30                           Hippeas - rockin� ranch�  ...   Green\n",
            "\n",
            "[31 rows x 6 columns]\n"
          ],
          "name": "stdout"
        }
      ]
    },
    {
      "cell_type": "code",
      "metadata": {
        "id": "6mMiRwn9NRQ9"
      },
      "source": [
        ""
      ],
      "execution_count": null,
      "outputs": []
    }
  ]
}